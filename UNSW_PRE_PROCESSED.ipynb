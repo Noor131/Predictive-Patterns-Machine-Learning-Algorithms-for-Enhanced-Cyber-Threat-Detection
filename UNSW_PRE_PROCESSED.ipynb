{
  "nbformat": 4,
  "nbformat_minor": 0,
  "metadata": {
    "colab": {
      "provenance": []
    },
    "kernelspec": {
      "name": "python3",
      "display_name": "Python 3"
    },
    "language_info": {
      "name": "python"
    }
  },
  "cells": [
    {
      "cell_type": "code",
      "execution_count": null,
      "metadata": {
        "id": "HcAnIeZIU-FB"
      },
      "outputs": [],
      "source": [
        "import pandas as pd\n",
        "from sklearn.model_selection import train_test_split\n",
        "from sklearn.ensemble import RandomForestClassifier\n",
        "from sklearn.metrics import accuracy_score, classification_report\n",
        "from sklearn.compose import ColumnTransformer\n",
        "from sklearn.preprocessing import OneHotEncoder\n",
        "from sklearn.preprocessing import LabelEncoder, LabelBinarizer\n",
        "from sklearn.tree import DecisionTreeClassifier\n",
        "from sklearn.pipeline import Pipeline\n",
        "from sklearn.feature_selection import SelectKBest\n",
        "from sklearn.feature_selection import f_classif\n",
        "import matplotlib.pyplot as plt"
      ]
    },
    {
      "cell_type": "code",
      "source": [
        " # !pip install scikit-learn"
      ],
      "metadata": {
        "id": "U-Ob24BYZz1J"
      },
      "execution_count": null,
      "outputs": []
    },
    {
      "cell_type": "code",
      "source": [
        "from google.colab import drive\n",
        "drive.mount('/content/drive')"
      ],
      "metadata": {
        "colab": {
          "base_uri": "https://localhost:8080/"
        },
        "id": "flopUpOLEFjG",
        "outputId": "59eb1ace-413a-40b2-e1e7-1cfe0ac4a04d"
      },
      "execution_count": null,
      "outputs": [
        {
          "output_type": "stream",
          "name": "stdout",
          "text": [
            "Mounted at /content/drive\n"
          ]
        }
      ]
    },
    {
      "cell_type": "code",
      "source": [
        "\n",
        "# Load the dataset\n",
        "df = pd.read_csv('/content/drive/MyDrive/Colab Notebooks/Intrusion Detection/datasets/header_UNSW-NB15_1.csv')"
      ],
      "metadata": {
        "colab": {
          "base_uri": "https://localhost:8080/"
        },
        "id": "Im4QMmnYVIAB",
        "outputId": "d76d2eaa-2266-4455-e2b9-670b68acbf50"
      },
      "execution_count": null,
      "outputs": [
        {
          "output_type": "stream",
          "name": "stderr",
          "text": [
            "<ipython-input-5-a7517ddfeeb1>:2: DtypeWarning: Columns (1,3,47) have mixed types. Specify dtype option on import or set low_memory=False.\n",
            "  df = pd.read_csv('/content/drive/MyDrive/Colab Notebooks/Intrusion Detection/datasets/header_UNSW-NB15_1.csv')\n"
          ]
        }
      ]
    },
    {
      "cell_type": "code",
      "source": [
        "print(df.head(3))"
      ],
      "metadata": {
        "colab": {
          "base_uri": "https://localhost:8080/"
        },
        "id": "58WUGfSSB9pr",
        "outputId": "e4f81df0-6130-4005-cc5e-7868e4ddec4c"
      },
      "execution_count": null,
      "outputs": [
        {
          "output_type": "stream",
          "name": "stdout",
          "text": [
            "        srcip  sport          dstip dsport proto state       dur  sbytes  \\\n",
            "0  59.166.0.0  33661  149.171.126.9   1024   udp   CON  0.036133     528   \n",
            "1  59.166.0.6   1464  149.171.126.7     53   udp   CON  0.001119     146   \n",
            "2  59.166.0.5   3593  149.171.126.5     53   udp   CON  0.001209     132   \n",
            "\n",
            "   dbytes  sttl  ...  Ct_ftp_cmd  Ct_srv_src  Ct_srv_dst Ct_dst_itm  \\\n",
            "0     304    31  ...           0           2           4          2   \n",
            "1     178    31  ...           0          12           8          1   \n",
            "2     164    31  ...           0           6           9          1   \n",
            "\n",
            "   Ct_src_itm  Ct_src_dsport_it  Ct_dst_sport_itm  Ct_dst_sport_itm.1  \\\n",
            "0           3                 1                 1                   2   \n",
            "1           2                 2                 1                   1   \n",
            "2           1                 1                 1                   1   \n",
            "\n",
            "   Ct_dst_sport_itm.2  Label  \n",
            "0                 NaN      0  \n",
            "1                 NaN      0  \n",
            "2                 NaN      0  \n",
            "\n",
            "[3 rows x 49 columns]\n"
          ]
        }
      ]
    },
    {
      "cell_type": "code",
      "source": [
        "# Fill NaN values in the target column with a specific label for normal instances\n",
        "df['Ct_dst_sport_itm.2'] = df['Ct_dst_sport_itm.2'].fillna('Normal')\n",
        "\n",
        "# Skip columns you want to exclude\n",
        "columns_to_skip = ['sport', 'dsport', 'Ct_dst_sport_itm.2']  # Replace with the names of columns to skip\n",
        "df = df.drop(['sport', 'dsport'], axis=1)"
      ],
      "metadata": {
        "id": "aNXUdfyDVShS"
      },
      "execution_count": null,
      "outputs": []
    },
    {
      "cell_type": "code",
      "source": [
        "# Encoding categorical columns\n",
        "from sklearn.preprocessing import LabelEncoder, LabelBinarizer\n",
        "label_encoders = {}\n",
        "categorical_columns = df.select_dtypes(include=['object']).columns\n",
        "# Exclude the target column from the list of columns to encode\n",
        "categorical_columns = [col for col in categorical_columns if col != 'Ct_dst_sport_itm.2']\n",
        "for col in categorical_columns:\n",
        "    print(col)\n",
        "    le = LabelEncoder()\n",
        "    df[col] = le.fit_transform(df[col])\n",
        "    label_encoders[col] = le"
      ],
      "metadata": {
        "colab": {
          "base_uri": "https://localhost:8080/"
        },
        "id": "Q9jJ4Jjhv5ik",
        "outputId": "96d4722f-e482-4b74-a7e1-da9d213165bb"
      },
      "execution_count": null,
      "outputs": [
        {
          "output_type": "stream",
          "name": "stdout",
          "text": [
            "srcip\n",
            "dstip\n",
            "proto\n",
            "state\n",
            "Service\n"
          ]
        }
      ]
    },
    {
      "cell_type": "code",
      "source": [
        "# Separate the dataset into normal and attack samples\n",
        "normal_data = df[df['Ct_dst_sport_itm.2'] == 'Normal']\n",
        "attack_data = df[df['Ct_dst_sport_itm.2'] != 'Normal']"
      ],
      "metadata": {
        "id": "EQck2Fniffpa"
      },
      "execution_count": null,
      "outputs": []
    },
    {
      "cell_type": "code",
      "source": [
        "normal_data.shape\n",
        "attack_data.shape"
      ],
      "metadata": {
        "colab": {
          "base_uri": "https://localhost:8080/"
        },
        "id": "4akKzB60C2Kz",
        "outputId": "5b0a8c83-77ab-45a9-90d5-c785b2837409"
      },
      "execution_count": null,
      "outputs": [
        {
          "output_type": "execute_result",
          "data": {
            "text/plain": [
              "(22215, 47)"
            ]
          },
          "metadata": {},
          "execution_count": 12
        }
      ]
    },
    {
      "cell_type": "code",
      "source": [
        "#########\n",
        "# Splitting the dataset such that training set contains 80% samples from each class\n",
        "train_data = pd.DataFrame()\n",
        "test_data = pd.DataFrame()\n",
        "\n",
        "unique_classes = attack_data['Ct_dst_sport_itm.2'].unique()\n",
        "\n",
        "for cls in unique_classes:\n",
        "    class_data = df[df['Ct_dst_sport_itm.2'] == cls]\n",
        "    print(cls)\n",
        "    print(class_data.shape)\n",
        "    class_train, class_test = train_test_split(class_data, train_size=0.8, random_state=42)\n",
        "    train_data = pd.concat([train_data, class_train])\n",
        "    print(f\"80 percent number: {train_data.shape}\")\n",
        "    test_data = pd.concat([test_data, class_test])\n",
        "\n"
      ],
      "metadata": {
        "id": "SI8t2xawLZ8i",
        "colab": {
          "base_uri": "https://localhost:8080/"
        },
        "outputId": "661a0331-b129-4829-9684-e02f49ae26c1"
      },
      "execution_count": null,
      "outputs": [
        {
          "output_type": "stream",
          "name": "stdout",
          "text": [
            "Exploits\n",
            "(5409, 47)\n",
            "80 percent number: (4327, 47)\n",
            "Reconnaissance\n",
            "(1759, 47)\n",
            "80 percent number: (5734, 47)\n",
            "DoS\n",
            "(1167, 47)\n",
            "80 percent number: (6667, 47)\n",
            "Generic\n",
            "(7522, 47)\n",
            "80 percent number: (12684, 47)\n",
            "Shellcode\n",
            "(223, 47)\n",
            "80 percent number: (12862, 47)\n",
            " Fuzzers\n",
            "(5051, 47)\n",
            "80 percent number: (16902, 47)\n",
            "Worms\n",
            "(24, 47)\n",
            "80 percent number: (16921, 47)\n",
            "Backdoors\n",
            "(534, 47)\n",
            "80 percent number: (17348, 47)\n",
            "Analysis\n",
            "(526, 47)\n",
            "80 percent number: (17768, 47)\n"
          ]
        }
      ]
    },
    {
      "cell_type": "code",
      "source": [
        "# Splitting into X and y\n",
        "X_train_attack = train_data.drop('Ct_dst_sport_itm.2', axis=1)\n",
        "y_train_attack = train_data['Ct_dst_sport_itm.2']\n",
        "X_test_attack = test_data.drop('Ct_dst_sport_itm.2', axis=1)\n",
        "y_test_attack = test_data['Ct_dst_sport_itm.2']\n",
        "\n",
        "print('X_train shape:', X_train_attack.shape)\n",
        "print('y_train shape:', y_train_attack.shape)\n",
        "print('X_test shape:', X_test_attack.shape)\n",
        "print('y_test shape:', y_test_attack.shape)\n",
        "\n",
        "#####"
      ],
      "metadata": {
        "colab": {
          "base_uri": "https://localhost:8080/"
        },
        "id": "gb_tgIRbTQH9",
        "outputId": "0e0087e3-f4e5-4ea9-bda5-1a65b575f042"
      },
      "execution_count": null,
      "outputs": [
        {
          "output_type": "stream",
          "name": "stdout",
          "text": [
            "X_train shape: (17768, 46)\n",
            "y_train shape: (17768,)\n",
            "X_test shape: (4447, 46)\n",
            "y_test shape: (4447,)\n"
          ]
        }
      ]
    },
    {
      "cell_type": "code",
      "source": [
        "# Split the normal samples into training and test sets (80% train, 20% test)\n",
        "X_normal = normal_data.drop('Ct_dst_sport_itm.2', axis=1)\n",
        "y_normal = normal_data['Ct_dst_sport_itm.2']\n",
        "X_train_normal, X_test_normal, y_train_normal, y_test_normal = train_test_split(X_normal, y_normal, train_size=0.8, random_state=42)\n"
      ],
      "metadata": {
        "id": "k9BiT3EDVpGK"
      },
      "execution_count": null,
      "outputs": []
    },
    {
      "cell_type": "code",
      "source": [
        "# Combine the training and test sets\n",
        "X_train = pd.concat([X_train_attack, X_train_normal])\n",
        "y_train = pd.concat([y_train_attack, y_train_normal])\n",
        "X_test = pd.concat([X_test_attack, X_test_normal])\n",
        "y_test = pd.concat([y_test_attack, y_test_normal])"
      ],
      "metadata": {
        "id": "TEdNp1oBZAqd"
      },
      "execution_count": null,
      "outputs": []
    },
    {
      "cell_type": "code",
      "source": [
        "# Shuffle the combined training data\n",
        "X_train = X_train.sample(frac=1, random_state=42).reset_index(drop=True)\n",
        "y_train = y_train.sample(frac=1, random_state=42).reset_index(drop=True)"
      ],
      "metadata": {
        "id": "jY-4br8GH543"
      },
      "execution_count": null,
      "outputs": []
    }
  ]
}